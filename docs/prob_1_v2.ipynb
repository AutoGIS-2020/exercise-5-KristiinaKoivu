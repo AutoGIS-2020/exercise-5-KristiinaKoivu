{
 "cells": [
  {
   "cell_type": "code",
   "execution_count": 57,
   "metadata": {},
   "outputs": [
    {
     "name": "stdout",
     "output_type": "stream",
     "text": [
      "     GML_ID NATCODE     NAMEFIN      NAMESWE  LANDAREA  FRESHWAREA  SEAWAREA  \\\n",
      "0  27817426     091    Helsinki  Helsingfors    214.25        0.91    500.32   \n",
      "1  27806267     049       Espoo         Esbo    312.32       17.91    197.80   \n",
      "2  27817421     092      Vantaa        Vanda    238.37        1.98      0.00   \n",
      "3  27806296     235  Kauniainen    Grankulla      5.89        0.11      0.00   \n",
      "\n",
      "   TOTALAREA                                           geometry  \n",
      "0     715.48  POLYGON ((399936.363 6684600.244, 399937.630 6...  \n",
      "1     528.03  POLYGON ((379983.813 6681677.659, 379996.122 6...  \n",
      "2     240.35  POLYGON ((399936.363 6684600.244, 399894.753 6...  \n",
      "3       6.00  POLYGON ((374739.340 6677929.880, 374750.598 6...  \n",
      "PROJCS[\"ETRS89_TM35FIN_E_N\",GEOGCS[\"ETRS89\",DATUM[\"European_Terrestrial_Reference_System_1989\",SPHEROID[\"GRS 1980\",6378137,298.257222101,AUTHORITY[\"EPSG\",\"7019\"]],AUTHORITY[\"EPSG\",\"6258\"]],PRIMEM[\"Greenwich\",0],UNIT[\"Degree\",0.0174532925199433],AUTHORITY[\"EPSG\",\"4258\"]],PROJECTION[\"Transverse_Mercator\"],PARAMETER[\"latitude_of_origin\",0],PARAMETER[\"central_meridian\",27],PARAMETER[\"scale_factor\",0.9996],PARAMETER[\"false_easting\",500000],PARAMETER[\"false_northing\",0],UNIT[\"metre\",1,AUTHORITY[\"EPSG\",\"9001\"]],AXIS[\"Easting\",EAST],AXIS[\"Northing\",NORTH]]\n"
     ]
    }
   ],
   "source": [
    "### Create map of plööp\n",
    "\n",
    "### IMPORT DATA ###\n",
    "\n",
    "# Import modules\n",
    "import pandas as pd\n",
    "import geopandas as gpd\n",
    "from shapely.geometry import Point\n",
    "from geopandas.tools import geocode\n",
    "import numpy as np\n",
    "from pyproj import CRS\n",
    "import requests\n",
    "import geojson\n",
    "import matplotlib.pyplot as plt\n",
    "from shapely.ops import cascaded_union\n",
    "\n",
    "## Read shape file containing the capital region as polygons into variable 'grid'\n",
    "# File path\n",
    "fp_grid = \"data/pkseutu.shp\"\n",
    "\n",
    "# Read in data\n",
    "grid = gpd.read_file(fp_grid)\n",
    "\n",
    "# Check if crs is correct and set crs to ETRS89 / TM35FIN if the crs is not defined correctly\n",
    "if (grid.crs != \"epsg:3067\"):    \n",
    "    grid = grid.set_crs(epsg=3067)\n",
    "\n",
    "# Check the data\n",
    "print(grid.head())\n",
    "print(grid.crs)"
   ]
  },
  {
   "cell_type": "code",
   "execution_count": 58,
   "metadata": {},
   "outputs": [
    {
     "name": "stdout",
     "output_type": "stream",
     "text": [
      "   asukkaita                                           geometry\n",
      "0        108  MULTIPOLYGON Z (((365582.138 6673970.899 0.000...\n",
      "1        273  MULTIPOLYGON Z (((365839.544 6674213.167 0.000...\n",
      "2        239  MULTIPOLYGON Z (((366127.234 6675454.796 0.000...\n",
      "3        202  MULTIPOLYGON Z (((366119.663 6675204.958 0.000...\n",
      "4        261  MULTIPOLYGON Z (((366112.092 6674955.121 0.000...\n",
      "epsg:3067\n"
     ]
    }
   ],
   "source": [
    "## Read population grid data for 2018 into a variable `pop`. \n",
    "\n",
    "# Specify the url for web feature service\n",
    "url = 'https://kartta.hsy.fi/geoserver/wfs'\n",
    "\n",
    "# Specify parameters (read data in json format).\n",
    "params = dict(service='WFS',\n",
    "              version='2.0.0',\n",
    "              request='GetFeature',\n",
    "              typeName='asuminen_ja_maankaytto:Vaestotietoruudukko_2018',\n",
    "              outputFormat='json')\n",
    "\n",
    "# Fetch data from WFS using requests\n",
    "r = requests.get(url, params=params)\n",
    "\n",
    "# Create GeoDataFrame from geojson\n",
    "pop = gpd.GeoDataFrame.from_features(geojson.loads(r.content))\n",
    "\n",
    "# Clean out unnecessary columns\n",
    "pop = pop[[\"asukkaita\", \"geometry\"]]\n",
    "\n",
    "# Set crs to ETRS89 / GK25FIN and reproject to ETRS89 / TM35FIN if the crs is not defined correctly\n",
    "if (pop.crs == None):    \n",
    "    pop = pop.set_crs(epsg=3879)\n",
    "if (pop.crs != \"epsg:3067\"):    \n",
    "    pop = pop.to_crs(epsg=3067)\n",
    "\n",
    "# Check the data\n",
    "print(pop.head())\n",
    "print(pop.crs)"
   ]
  },
  {
   "cell_type": "code",
   "execution_count": 71,
   "metadata": {},
   "outputs": [
    {
     "name": "stdout",
     "output_type": "stream",
     "text": [
      "           asema                                           geometry\n",
      "0       Helsinki  MULTIPOLYGON (((385798.979 6672640.104, 385799...\n",
      "1        Leinelä  MULTIPOLYGON (((391873.107 6688918.697, 391877...\n",
      "3  Rautatientori  MULTIPOLYGON (((385796.886 6672409.483, 385813...\n",
      "5      Koivuhovi  MULTIPOLYGON (((372679.134 6676880.670, 372701...\n",
      "6       Siilitie  MULTIPOLYGON (((391655.312 6676062.512, 391670...\n",
      "64\n"
     ]
    }
   ],
   "source": [
    "## Read buffer polygons that describe 200 m accessibility via pedestrian and bicycle ways from metro and train stations \n",
    "\n",
    "# Specify the url for web feature service\n",
    "url_buff = 'https://kartta.hsy.fi/geoserver/wfs'\n",
    "\n",
    "# Specify parameters (read data in json format).\n",
    "params_buff = dict(service='WFS',\n",
    "              version='2.0.0',\n",
    "              request='GetFeature',\n",
    "              typeName='200m_verkostobufferi',\n",
    "              outputFormat='json')\n",
    "\n",
    "# Fetch data from WFS using requests\n",
    "r = requests.get(url_buff, params=params_buff)\n",
    "\n",
    "# Create GeoDataFrame from geojson\n",
    "buff = gpd.GeoDataFrame.from_features(geojson.loads(r.content))\n",
    "\n",
    "# Clean out unnecessary columns\n",
    "buff = buff[[\"asema\", \"geometry\"]]\n",
    "\n",
    "# Set crs to ETRS89 / GK25FIN and reproject to ETRS89 / TM35FIN if the crs is not defined correctly\n",
    "if (buff.crs == None):    \n",
    "    buff = buff.set_crs(epsg=3879)\n",
    "if (buff.crs != \"epsg:3067\"):    \n",
    "    buff = buff.to_crs(epsg=3067)\n",
    "    \n",
    "# Clip out stations that are located outside the capital region\n",
    "#polygons = [grid.at[0,'geometry'], grid.at[1,'geometry'], grid.at[2,'geometry'], grid.at[3,'geometry']]\n",
    "#boundary = gpd.GeoSeries(cascaded_union(polygons))\n",
    "#boundary = boundary.set_crs(epsg=3067)\n",
    "grid['constant'] = 0\n",
    "boundary = grid.dissolve(by='constant')\n",
    "\n",
    "clip_mask = buff.within(boundary.at[0,'geometry'])\n",
    "buff = buff.loc[clip_mask]\n",
    "#gpd.clip(buff, boundary)\n",
    "\n",
    "# Check the data\n",
    "print(buff.head())\n",
    "print(len(buff))"
   ]
  },
  {
   "cell_type": "code",
   "execution_count": null,
   "metadata": {},
   "outputs": [],
   "source": [
    "### PROCESS DATA ###\n",
    "\n",
    "# Create new column ''"
   ]
  },
  {
   "cell_type": "code",
   "execution_count": 62,
   "metadata": {},
   "outputs": [
    {
     "data": {
      "image/png": "[encoded data removed]",
      "text/plain": [
       "<Figure size 864x576 with 1 Axes>"
      ]
     },
     "metadata": {
      "needs_background": "light"
     },
     "output_type": "display_data"
    }
   ],
   "source": [
    "### PLOT DATA ###\n",
    "# Create one subplot\n",
    "fig, ax = plt.subplots(figsize=(12,8))\n",
    "\n",
    "# Visualize \n",
    "pop.plot(ax=ax, column=\"asukkaita\", cmap=\"YlOrBr\", alpha=0.9)\n",
    "\n",
    "buff.plot(ax=ax, column=\"asema\")\n",
    "\n",
    "boundary.plot(ax=ax)\n",
    "\n",
    "# Disable scientific notation\n",
    "ax.ticklabel_format(style='plain')\n"
   ]
  }
 ],
 "metadata": {
  "kernelspec": {
   "display_name": "Python 3",
   "language": "python",
   "name": "python3"
  },
  "language_info": {
   "codemirror_mode": {
    "name": "ipython",
    "version": 3
   },
   "file_extension": ".py",
   "mimetype": "text/x-python",
   "name": "python",
   "nbconvert_exporter": "python",
   "pygments_lexer": "ipython3",
   "version": "3.8.6"
  }
 },
 "nbformat": 4,
 "nbformat_minor": 4
}
